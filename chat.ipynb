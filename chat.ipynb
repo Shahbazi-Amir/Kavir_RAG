{
 "cells": [
  {
   "cell_type": "code",
   "execution_count": null,
   "id": "2e1d24b6",
   "metadata": {},
   "outputs": [],
   "source": [
    "import os, pexpect, sys\n",
    "\n",
    "BIN_DIR = \"/Users/macbookpro/AMIR_DATA/00_Project/VSCode__project/1_Machine_learning/with_AI/ML_Models/simulation_upwork/Kavir_RAG(Retrieval Augmented Generation)/llama.cpp/build/bin\"\n",
    "MODEL   = \"/Users/macbookpro/AMIR_DATA/00_Project/VSCode__project/1_Machine_learning/with_AI/ML_Models/simulation_upwork/Kavir_RAG(Retrieval Augmented Generation)/data/models/qwen2-7b-instruct-q4_k_m.gguf\"\n",
    "\n",
    "assert os.path.exists(BIN_DIR), \"BIN_DIR not found\"\n",
    "assert os.path.exists(MODEL),   \"MODEL file not found\"\n",
    "os.chdir(BIN_DIR)\n",
    "\n",
    "# فقط CPU و بدون warmup\n",
    "cmd = f'./llama-cli --model \"{MODEL}\" -c 1024 -n 256 -ngl 0 --no-warmup'\n",
    "\n",
    "session = pexpect.spawn(cmd, encoding=\"utf-8\", timeout=900)\n",
    "\n",
    "# لاگ استریم روی خروجی نوت‌بوک\n",
    "session.logfile_read = sys.stdout\n",
    "\n",
    "# منتظر متن \"interactive mode\" (کافی به جای خط کامل)\n",
    "session.expect(\"interactive mode\")\n",
    "\n",
    "# بعد منتظر پرامپت user به‌صورت دقیق‌تر\n",
    "session.expect_exact(\"user\")\n",
    "print(\"\\n✅ Session ready.\")\n"
   ]
  },
  {
   "cell_type": "code",
   "execution_count": null,
   "id": "b6a3fcd4",
   "metadata": {},
   "outputs": [],
   "source": [
    "def ask(msg: str) -> str:\n",
    "    # ارسال سؤال\n",
    "    session.sendline(msg)\n",
    "    # اول منتظر شو مدل بره به نقش assistant\n",
    "    session.expect(r\"\\nassistant\\r?\\n\", timeout=900)\n",
    "    # بعد منتظر شو تا دوباره به پرامپت user برگرده\n",
    "    session.expect(r\"\\nuser\\r?\\n\", timeout=900)\n",
    "    # هر چی بین این دو بوده خروجی پاسخ‌ه\n",
    "    return session.before.strip()\n"
   ]
  },
  {
   "cell_type": "code",
   "execution_count": null,
   "id": "6c95e566",
   "metadata": {},
   "outputs": [],
   "source": [
    "print(ask(\"سلام! حالت چطوره؟\"))\n"
   ]
  }
 ],
 "metadata": {
  "kernelspec": {
   "display_name": "Python 3",
   "language": "python",
   "name": "python3"
  },
  "language_info": {
   "codemirror_mode": {
    "name": "ipython",
    "version": 3
   },
   "file_extension": ".py",
   "mimetype": "text/x-python",
   "name": "python",
   "nbconvert_exporter": "python",
   "pygments_lexer": "ipython3",
   "version": "3.11.3"
  }
 },
 "nbformat": 4,
 "nbformat_minor": 5
}
