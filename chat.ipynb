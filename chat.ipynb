{
 "cells": [
  {
   "cell_type": "code",
   "execution_count": 19,
   "id": "b0764885",
   "metadata": {},
   "outputs": [],
   "source": [
    "import os, pexpect, sys\n",
    "\n",
    "BIN_DIR = \"/Users/macbookpro/AMIR_DATA/00_Project/VSCode__project/1_Machine_learning/with_AI/ML_Models/simulation_upwork/Kavir_RAG(Retrieval Augmented Generation)/llama.cpp/build/bin\"\n",
    "MODEL   = \"/Users/macbookpro/AMIR_DATA/00_Project/VSCode__project/1_Machine_learning/with_AI/ML_Models/simulation_upwork/Kavir_RAG(Retrieval Augmented Generation)/data/models/qwen2-7b-instruct-q4_k_m.gguf\"\n"
   ]
  },
  {
   "cell_type": "code",
   "execution_count": 20,
   "id": "647e39c5",
   "metadata": {},
   "outputs": [
    {
     "name": "stdout",
     "output_type": "stream",
     "text": [
      "✅ Session ready.\n"
     ]
    }
   ],
   "source": [
    "os.chdir(BIN_DIR)\n",
    "cmd = f'./llama-cli --model \"{MODEL}\" -c 768 -n 48 -t 4 -b 128 -ngl 0 --no-warmup'\n",
    "session = pexpect.spawn(cmd, encoding=\"utf-8\", timeout=900)\n",
    "#session.logfile_read = sys.stdout  # لاگ زنده ببین\n",
    "\n",
    "session.expect(\"interactive mode\")  # وقتی دیدی، یعنی برنامه آماده‌ست\n",
    "print(\"✅ Session ready.\")\n"
   ]
  },
  {
   "cell_type": "code",
   "execution_count": 21,
   "id": "a5f038e9",
   "metadata": {},
   "outputs": [],
   "source": [
    "def ask(msg: str) -> str:\n",
    "    session.sendline(msg)\n",
    "    session.expect_exact(\"assistant\")       # تا شروع پاسخ\n",
    "    session.expect_exact(\"user\")            # تا برگشت به پرامپت بعدی\n",
    "    return session.before.strip()           # متن بین این دو\n"
   ]
  },
  {
   "cell_type": "code",
   "execution_count": null,
   "id": "538c2478",
   "metadata": {},
   "outputs": [],
   "source": [
    "print(ask(\"سلام\"))"
   ]
  }
 ],
 "metadata": {
  "kernelspec": {
   "display_name": "Python 3",
   "language": "python",
   "name": "python3"
  },
  "language_info": {
   "codemirror_mode": {
    "name": "ipython",
    "version": 3
   },
   "file_extension": ".py",
   "mimetype": "text/x-python",
   "name": "python",
   "nbconvert_exporter": "python",
   "pygments_lexer": "ipython3",
   "version": "3.11.3"
  }
 },
 "nbformat": 4,
 "nbformat_minor": 5
}
