{
 "cells": [
  {
   "cell_type": "markdown",
   "id": "4d5dcb10",
   "metadata": {},
   "source": [
    "## Kavir_RAG\n",
    "Retrieval-Augmented Generation\n",
    "<div style=\"direction: rtl; white-space: pre-wrap; line-height: 1.5;\">\n",
    "Retrieval = بازیابی (درست مثل سرچ کردن و پیدا کردن یک متن مرتبط از میان کلی سند)\n",
    "Augmented = تقویت‌شده / غنی‌شده (یعنی اطلاعات جدیدی به چیزی اضافه شده)\n",
    "Generation = تولید متن (کاری که مدل زبانی انجام می‌ده: جمله‌سازی، پاسخ‌دهی)\n",
    "</div>"
   ]
  }
 ],
 "metadata": {
  "language_info": {
   "name": "python"
  }
 },
 "nbformat": 4,
 "nbformat_minor": 5
}
