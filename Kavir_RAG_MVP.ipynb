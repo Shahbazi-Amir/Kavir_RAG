{
 "cells": [
  {
   "cell_type": "markdown",
   "id": "4d5dcb10",
   "metadata": {},
   "source": [
    "## Kavir_RAG\n",
    "Retrieval-Augmented Generation\n",
    "<div style=\"direction: rtl; white-space: pre-wrap; line-height: 1.5;\">\n",
    "Retrieval = بازیابی (درست مثل سرچ کردن و پیدا کردن یک متن مرتبط از میان کلی سند)\n",
    "Augmented = تقویت‌شده / غنی‌شده (یعنی اطلاعات جدیدی به چیزی اضافه شده)\n",
    "Generation = تولید متن (کاری که مدل زبانی انجام می‌ده: جمله‌سازی، پاسخ‌دهی)\n",
    "</div>"
   ]
  },
  {
   "cell_type": "markdown",
   "id": "8652948c",
   "metadata": {},
   "source": [
    "<div style=\"direction: rtl;\">\n",
    "\n",
    "\n",
    "# تعریف پروژه (گام ۰: صورت‌مسئله و برنامهٔ کار)\n",
    "\n",
    "## نام‌ها\n",
    "\n",
    "* **نام پروژه (repo):** `Kavir-RAG`  *(کویر: محلی، مستقل، خلوت)*\n",
    "* **نام نوت‌بوک اصلی:** `Kavir_RAG_MVP.ipynb`\n",
    "\n",
    "## هدف فنی\n",
    "\n",
    "یک **سرور RAG کاملاً لوکال و آفلاین** برای تحلیل اسناد چندفرمت (PDF, DOCX, XLSX/CSV, TXT, code snippets, IPYNB) با:\n",
    "\n",
    "* ایندکس‌سازی (FAISS/Chroma) + امبدینگ چندزبانه (fa/en)\n",
    "* بازیابی معنایی + (اختیاری) ریرنکر\n",
    "* پاسخ LLM لوکال با **ارجاع به منبع**\n",
    "* API مبتنی بر **FastAPI** (endpoints: `/upload`, `/query`, `/chat`, `/reindex`) با **توکن ساده**\n",
    "* اجرا روی i5 / 8GB RAM (CPU-only؛ 16GB روان‌تر)\n",
    "\n",
    "## پیکرهٔ فنی پیشنهادی\n",
    "\n",
    "* **LLM**: Qwen2-7B-Instruct (Q4\\_0 via Ollama/llama.cpp) – کم‌مصرف و چندزبانه\n",
    "* **Embedding**: `intfloat/multilingual-e5-small` (CPU-friendly)\n",
    "* **Vector DB**: FAISS (IndexFlatIP + نُرمال‌سازی → cosine)\n",
    "* **Re-rank (اختیاری)**: `bge-reranker-base` (CPU)\n",
    "* **Parserها**: PyMuPDF (PDF)، python-docx، pandas (CSV/XLSX)، nbformat (ipynb)، Tesseract (OCR در صورت نیاز)\n",
    "* **API**: FastAPI + Uvicorn\n",
    "* **UI سبک (اختیاری)**: Streamlit (یا React ساده)\n",
    "* **امنیت LAN**: توکن ساده + (اختیاری) Nginx/Caddy با TLS داخلی\n",
    "\n",
    "\n",
    "## خروجی‌های نسخهٔ پایه (MVP)\n",
    "\n",
    "* Endpointهای `/upload`, `/query`, `/reindex` (و `/chat` سبک)\n",
    "* بازیابی top-k با citation\n",
    "* ذخیرهٔ ایندکس روی دیسک و بارگذاری مجدد\n",
    "* اجرای کامل روی یک ماشین بدون اینترنت (بعد از دانلود اولیهٔ مدل‌ها)\n",
    "\n",
    "## زمان‌بندی و هزینه (الگوی آپ‌ورک)\n",
    "\n",
    "* **MVP (فقط API+RAG)**: \\~ **۱ روز کاری**\n",
    "  شکست به تسک‌ها: تعاریف و اسکلت (۱س) • نصب/مدل (۲س) • ingest+index (۲–۳س) • RAG+API (۲س) • تست سریع (۱س).\n",
    "* **کامل‌تر (UI، امنیت LAN، بکاپ، ریرنکر، هیبرید سرچ)**: **۲–۴ روز کاری**\n",
    "* **تخمین هزینه** (فرضِ فریلنسری استاندارد):\n",
    "\n",
    "  * MVP: **۲۰۰–۳۰۰ دلار**\n",
    "  * کامل‌تر: **۵۰۰–۸۰۰ دلار**\n",
    "* **آپشن توسعهٔ حرفه‌ای (۳–۷ روز اضافه، +۷۰۰ تا +۱۵۰۰ دلار بسته به دامنه):**\n",
    "\n",
    "  * هیبرید سرچ (BM25 + dense) و تیونینگ ریتریور\n",
    "  * ریرنکر پیش‌فرض + A/B ارزیابی پاسخ‌ها\n",
    "  * Session memory برای چت چندمرحله‌ای\n",
    "  * Docker Compose + Nginx/Caddy + TLS داخلی\n",
    "  * Role-based tokens، لاگ و Auditing\n",
    "  * Sandbox خواندن امنِ ipynb (بدون اجرای کُد کاربر)\n",
    "  * تست‌های واحد/تکاملی + بنچمارک کوچک کیفیت RAG\n",
    "  * اسکریپت پشتیبان‌گیری ایندکس + بازیابی\n",
    "\n",
    "## ریسک‌ها و قیود\n",
    "\n",
    "* 8GB RAM کفِ قابل اجراست؛ زمان ساخت امبدینگ اولیه کندتر است.\n",
    "* فایل‌های تصویریِ فرمول نیازمند OCR هستند و ممکن است کیفیت استخراج متغیر باشد.\n",
    "* بارِ نخست نیاز به دانلود مدل‌ها دارد؛ سپس کاملاً آفلاین.\n",
    "\n",
    "---\n",
    "\n",
    "# گام بعدی (مرحله ۱: اسکلت پروژه و آماده‌سازی محیط)\n",
    "\n",
    "در این مرحله فقط **ساختار پوشه‌ها** و یک **venv سبک** ایجاد می‌کنیم و فهرست **dependencies** را می‌نویسیم (بدون نصب سنگین مدل‌ها هنوز).\n",
    "طبق «پرامپتِ قدم»، **هیچ کُدی** تا وقتی تأیید ندهی نمایش نمی‌دهم.\n",
    "\n",
    "\n",
    "</div>"
   ]
  },
  {
   "cell_type": "code",
   "execution_count": 1,
   "id": "9aa682ee",
   "metadata": {},
   "outputs": [
    {
     "data": {
      "text/plain": [
       "'Kavir-RAG/\\n  data/\\n    raw/           # raw uploaded files\\n    ocr/           # OCR output (if needed)\\n    index/         # FAISS index stored on disk\\n  models/          # cached models (optional)\\n  app/\\n    api.py         # FastAPI endpoints\\n    rag_core.py    # retrieval + prompt composition + generation\\n    ingest.py      # file parsers + chunking + embeddings\\n    auth.py        # simple token-based authentication\\n    utils.py       # helper functions\\n  notebooks/\\n    Kavir_RAG_MVP.ipynb\\n  configs/\\n    settings.yaml  # configuration file\\n  tests/           # unit/integration tests\\n  README.md        # project documentation\\n  '"
      ]
     },
     "execution_count": 1,
     "metadata": {},
     "output_type": "execute_result"
    }
   ],
   "source": [
    "'''Kavir-RAG/\n",
    "  data/\n",
    "    raw/           # raw uploaded files\n",
    "    ocr/           # OCR output (if needed)\n",
    "    index/         # FAISS index stored on disk\n",
    "  models/          # cached models (optional)\n",
    "  app/\n",
    "    api.py         # FastAPI endpoints\n",
    "    rag_core.py    # retrieval + prompt composition + generation\n",
    "    ingest.py      # file parsers + chunking + embeddings\n",
    "    auth.py        # simple token-based authentication\n",
    "    utils.py       # helper functions\n",
    "  notebooks/\n",
    "    Kavir_RAG_MVP.ipynb\n",
    "  configs/\n",
    "    settings.yaml  # configuration file\n",
    "  tests/           # unit/integration tests\n",
    "  README.md        # project documentation\n",
    "  '''\n"
   ]
  },
  {
   "cell_type": "code",
   "execution_count": 3,
   "id": "97ff0801",
   "metadata": {},
   "outputs": [],
   "source": [
    "!touch Dockerfile\n",
    "!touch requirements.txt\n",
    "!mkdir -p src\n",
    "!touch src/main.py"
   ]
  }
 ],
 "metadata": {
  "kernelspec": {
   "display_name": "Python 3",
   "language": "python",
   "name": "python3"
  },
  "language_info": {
   "codemirror_mode": {
    "name": "ipython",
    "version": 3
   },
   "file_extension": ".py",
   "mimetype": "text/x-python",
   "name": "python",
   "nbconvert_exporter": "python",
   "pygments_lexer": "ipython3",
   "version": "3.11.3"
  }
 },
 "nbformat": 4,
 "nbformat_minor": 5
}
